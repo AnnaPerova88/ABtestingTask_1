{
  "nbformat": 4,
  "nbformat_minor": 0,
  "metadata": {
    "colab": {
      "private_outputs": true,
      "provenance": []
    },
    "kernelspec": {
      "name": "python3",
      "display_name": "Python 3"
    },
    "language_info": {
      "name": "python"
    }
  },
  "cells": [
    {
      "cell_type": "code",
      "source": [
        "import numpy as np\n",
        "import matplotlib.pyplot as plt\n",
        "import scipy.stats as stats\n",
        "\n"
      ],
      "metadata": {
        "id": "H77Rm_z4o2uQ"
      },
      "execution_count": null,
      "outputs": []
    },
    {
      "cell_type": "code",
      "source": [
        "# Условия задачи\n",
        "k = 2\n",
        "theta = 2\n",
        "sample_size = 2000\n",
        "\n",
        "# Генерация выборки\n",
        "data = np.random.gamma(shape=k, scale=theta, size=sample_size)\n",
        "\n",
        "# Расчет среднего значения выборки\n",
        "sample_mean = np.mean(data)\n",
        "print(\"Среднее значение выборки:\", round(sample_mean))"
      ],
      "metadata": {
        "id": "GkQqK3wGvMyX"
      },
      "execution_count": null,
      "outputs": []
    },
    {
      "cell_type": "code",
      "source": [
        "# Гамма-распределения\n",
        "# Построение гистограммы\n",
        "plt.hist(data, bins=50, alpha=0.7, color='blue', edgecolor='black')\n",
        "plt.title('Гамма-распределение')\n",
        "plt.xlabel('Значения')\n",
        "plt.ylabel('Частота')\n",
        "plt.show()"
      ],
      "metadata": {
        "id": "Df7kgS47uRMM"
      },
      "execution_count": null,
      "outputs": []
    },
    {
      "cell_type": "code",
      "source": [
        "# Вычисление 95% доверительного интервала с использованием Bootstrap\n",
        "# Функция для Bootstrap\n",
        "def bootstrap_mean(data, n_iterations=1000):\n",
        "    boot_means = []\n",
        "    for _ in range(n_iterations):\n",
        "        sample = np.random.choice(data, size=len(data), replace=True)\n",
        "        boot_means.append(np.mean(sample))\n",
        "    return boot_means\n",
        "\n",
        "# Проведение Bootstrap\n",
        "boot_means = bootstrap_mean(data)\n",
        "\n",
        "# Расчет доверительного интервала\n",
        "lower_bound = np.percentile(boot_means, 2.5)\n",
        "upper_bound = np.percentile(boot_means, 97.5)\n",
        "mean_boot = np.mean(boot_means)\n",
        "\n",
        "print(\"Нижняя граница 95% доверительного интервала:\", round(lower_bound))\n",
        "print(\"Верхняя граница 95% доверительного интервала:\", round(upper_bound))\n",
        "print(\"Среднее значение (Bootstrap):\", round(mean_boot))"
      ],
      "metadata": {
        "id": "rDaMtY3tvhsJ"
      },
      "execution_count": null,
      "outputs": []
    },
    {
      "cell_type": "code",
      "source": [
        "# Визуализация Bootstrap\n",
        "\n",
        "# Построение гистограммы для Bootstrap средних\n",
        "plt.hist(boot_means, bins=50, alpha=0.7, color='green', edgecolor='black')\n",
        "plt.title('Распределение Bootstrap средних')\n",
        "plt.xlabel('Среднее значение')\n",
        "plt.ylabel('Частота')\n",
        "plt.show()"
      ],
      "metadata": {
        "id": "acr03VMNvyih"
      },
      "execution_count": null,
      "outputs": []
    },
    {
      "cell_type": "code",
      "source": [
        "# Ответы\n",
        "# 1.1: Среднее значение выборки из пункта 1.\n",
        "# 1.2: Нижняя граница 95% доверительного интервала.\n",
        "# 1.3: Верхняя граница 95% доверительного интервала.\n",
        "# 1.4: Среднее значение из Bootstrap."
      ],
      "metadata": {
        "id": "t_ccjkcrwJ-e"
      },
      "execution_count": null,
      "outputs": []
    },
    {
      "cell_type": "code",
      "source": [],
      "metadata": {
        "id": "PCRfV_0Rvr-q"
      },
      "execution_count": null,
      "outputs": []
    }
  ]
}